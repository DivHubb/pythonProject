{
  "cells": [
    {
      "cell_type": "markdown",
      "metadata": {
        "tags": [],
        "id": "QZmBg4RSQDEC"
      },
      "source": [
        "# Introduction to Machine Learning - Exercise 5\n",
        "* Goal of the excercise is to learn how to use **K-means** implementation in the Scikit-learn library to perform clustering and subsequent cluster analysis on a Titanic dataset.\n",
        "\n",
        "## 🔎 Let's discuss the clustering topic a bit first\n",
        "* What task do clustering algorithms solve?\n",
        "* Do you know any examples of such algorithms?\n",
        "* What are the limitation of clustering algorithms?\n",
        "\n",
        "## 🔎 What is the **most difficult** of the clustering tasks?\n",
        "\n",
        "![meme01](https://github.com/lubsar/EFREI-Introduction-to-Machine-Learning/blob/main/images/fml_04_meme_01.jpg?raw=true)\n",
        "\n",
        "## 💡 But don't worry we will deal with the topic in several lectures 😊"
      ]
    },
    {
      "cell_type": "markdown",
      "metadata": {
        "id": "JsQldqyJQDED"
      },
      "source": [
        "## Import the libraries\n",
        "* 🔎  What is the **sklearn** library?"
      ]
    },
    {
      "cell_type": "code",
      "execution_count": null,
      "metadata": {
        "id": "x6XOUhvFa-wT"
      },
      "outputs": [],
      "source": [
        "import numpy as np\n",
        "import pandas as pd\n",
        "import sklearn\n",
        "import sklearn.preprocessing, sklearn.cluster, sklearn.metrics\n",
        "import scipy.spatial\n",
        "import matplotlib.pyplot as plt\n",
        "import seaborn as sns"
      ]
    },
    {
      "cell_type": "markdown",
      "metadata": {
        "tags": [],
        "id": "mpYNVX65QDEE"
      },
      "source": [
        "# We will work with the famous Titanic dataset ⛵\n",
        "\n",
        "## Data Dictionary\n",
        "\n",
        "|Variable|Definition|Key|\n",
        "|:-------|:-------|:--------|\n",
        "|survival|Survival|0 = No, 1 = Yes|\n",
        "|pclass|Ticket class|1 = 1st, 2 = 2nd, 3 = 3rd|\n",
        "|sex|Sex||\n",
        "|Age|Age in years||\n",
        "|sibsp|# of siblings / spouses aboard the Titanic||\n",
        "|parch|# of parents / children aboard the Titanic||\n",
        "|ticket|Ticket number||\n",
        "|fare|Passenger fare||\n",
        "|cabin|Cabin number||\n",
        "|embarked|Port of Embarkation|C = Cherbourg, Q = Queenstown, S = Southampton|\n",
        "\n",
        "**pclass**: A proxy for socio-economic status (SES)\n",
        "1st = Upper\n",
        "2nd = Middle\n",
        "3rd = Lower\n",
        "\n",
        "**age**: Age is fractional if less than 1. If the age is estimated, is it in the form of xx.5\n",
        "\n",
        "**sibsp**: The dataset defines family relations in this way...\n",
        "Sibling = brother, sister, stepbrother, stepsister\n",
        "Spouse = husband, wife (mistresses and fiancés were ignored)\n",
        "\n",
        "**parch**: The dataset defines family relations in this way...\n",
        "Parent = mother, father\n",
        "Child = daughter, son, stepdaughter, stepson\n",
        "Some children travelled only with a nanny, therefore parch=0 for them.\n",
        "\n",
        "* Dataset is available at https://www.kaggle.com/competitions/titanic'"
      ]
    },
    {
      "cell_type": "markdown",
      "metadata": {
        "id": "aim3dFATQDEE"
      },
      "source": [
        "## Load dataset\n",
        "* https://raw.githubusercontent.com/rasvob/EFREI-Introduction-to-Machine-Learning/main/datasets/titanic.csv"
      ]
    },
    {
      "cell_type": "code",
      "execution_count": null,
      "metadata": {
        "id": "0Px2d9roQDEE",
        "outputId": "954e0510-0c96-4bbb-f9b4-f53c938f0898"
      },
      "outputs": [
        {
          "data": {
            "text/html": [
              "<div>\n",
              "<style scoped>\n",
              "    .dataframe tbody tr th:only-of-type {\n",
              "        vertical-align: middle;\n",
              "    }\n",
              "\n",
              "    .dataframe tbody tr th {\n",
              "        vertical-align: top;\n",
              "    }\n",
              "\n",
              "    .dataframe thead th {\n",
              "        text-align: right;\n",
              "    }\n",
              "</style>\n",
              "<table border=\"1\" class=\"dataframe\">\n",
              "  <thead>\n",
              "    <tr style=\"text-align: right;\">\n",
              "      <th></th>\n",
              "      <th>Survived</th>\n",
              "      <th>Pclass</th>\n",
              "      <th>Name</th>\n",
              "      <th>Sex</th>\n",
              "      <th>Age</th>\n",
              "      <th>SibSp</th>\n",
              "      <th>Parch</th>\n",
              "      <th>Ticket</th>\n",
              "      <th>Fare</th>\n",
              "      <th>Cabin</th>\n",
              "      <th>Embarked</th>\n",
              "    </tr>\n",
              "    <tr>\n",
              "      <th>PassengerId</th>\n",
              "      <th></th>\n",
              "      <th></th>\n",
              "      <th></th>\n",
              "      <th></th>\n",
              "      <th></th>\n",
              "      <th></th>\n",
              "      <th></th>\n",
              "      <th></th>\n",
              "      <th></th>\n",
              "      <th></th>\n",
              "      <th></th>\n",
              "    </tr>\n",
              "  </thead>\n",
              "  <tbody>\n",
              "    <tr>\n",
              "      <th>1</th>\n",
              "      <td>0</td>\n",
              "      <td>3</td>\n",
              "      <td>Braund, Mr. Owen Harris</td>\n",
              "      <td>male</td>\n",
              "      <td>22.0</td>\n",
              "      <td>1</td>\n",
              "      <td>0</td>\n",
              "      <td>A/5 21171</td>\n",
              "      <td>7.2500</td>\n",
              "      <td>NaN</td>\n",
              "      <td>S</td>\n",
              "    </tr>\n",
              "    <tr>\n",
              "      <th>2</th>\n",
              "      <td>1</td>\n",
              "      <td>1</td>\n",
              "      <td>Cumings, Mrs. John Bradley (Florence Briggs Th...</td>\n",
              "      <td>female</td>\n",
              "      <td>38.0</td>\n",
              "      <td>1</td>\n",
              "      <td>0</td>\n",
              "      <td>PC 17599</td>\n",
              "      <td>71.2833</td>\n",
              "      <td>C85</td>\n",
              "      <td>C</td>\n",
              "    </tr>\n",
              "    <tr>\n",
              "      <th>3</th>\n",
              "      <td>1</td>\n",
              "      <td>3</td>\n",
              "      <td>Heikkinen, Miss. Laina</td>\n",
              "      <td>female</td>\n",
              "      <td>26.0</td>\n",
              "      <td>0</td>\n",
              "      <td>0</td>\n",
              "      <td>STON/O2. 3101282</td>\n",
              "      <td>7.9250</td>\n",
              "      <td>NaN</td>\n",
              "      <td>S</td>\n",
              "    </tr>\n",
              "    <tr>\n",
              "      <th>4</th>\n",
              "      <td>1</td>\n",
              "      <td>1</td>\n",
              "      <td>Futrelle, Mrs. Jacques Heath (Lily May Peel)</td>\n",
              "      <td>female</td>\n",
              "      <td>35.0</td>\n",
              "      <td>1</td>\n",
              "      <td>0</td>\n",
              "      <td>113803</td>\n",
              "      <td>53.1000</td>\n",
              "      <td>C123</td>\n",
              "      <td>S</td>\n",
              "    </tr>\n",
              "    <tr>\n",
              "      <th>5</th>\n",
              "      <td>0</td>\n",
              "      <td>3</td>\n",
              "      <td>Allen, Mr. William Henry</td>\n",
              "      <td>male</td>\n",
              "      <td>35.0</td>\n",
              "      <td>0</td>\n",
              "      <td>0</td>\n",
              "      <td>373450</td>\n",
              "      <td>8.0500</td>\n",
              "      <td>NaN</td>\n",
              "      <td>S</td>\n",
              "    </tr>\n",
              "  </tbody>\n",
              "</table>\n",
              "</div>"
            ],
            "text/plain": [
              "             Survived  Pclass  \\\n",
              "PassengerId                     \n",
              "1                   0       3   \n",
              "2                   1       1   \n",
              "3                   1       3   \n",
              "4                   1       1   \n",
              "5                   0       3   \n",
              "\n",
              "                                                          Name     Sex   Age  \\\n",
              "PassengerId                                                                    \n",
              "1                                      Braund, Mr. Owen Harris    male  22.0   \n",
              "2            Cumings, Mrs. John Bradley (Florence Briggs Th...  female  38.0   \n",
              "3                                       Heikkinen, Miss. Laina  female  26.0   \n",
              "4                 Futrelle, Mrs. Jacques Heath (Lily May Peel)  female  35.0   \n",
              "5                                     Allen, Mr. William Henry    male  35.0   \n",
              "\n",
              "             SibSp  Parch            Ticket     Fare Cabin Embarked  \n",
              "PassengerId                                                          \n",
              "1                1      0         A/5 21171   7.2500   NaN        S  \n",
              "2                1      0          PC 17599  71.2833   C85        C  \n",
              "3                0      0  STON/O2. 3101282   7.9250   NaN        S  \n",
              "4                1      0            113803  53.1000  C123        S  \n",
              "5                0      0            373450   8.0500   NaN        S  "
            ]
          },
          "execution_count": 11,
          "metadata": {},
          "output_type": "execute_result"
        }
      ],
      "source": [
        "df = pd.read_csv('https://raw.githubusercontent.com/lubsar/EFREI-Introduction-to-Machine-Learning/main/datasets/titanic.csv', index_col=0)\n",
        "df.head()"
      ]
    },
    {
      "cell_type": "markdown",
      "metadata": {
        "id": "AD17cJGeQDEF"
      },
      "source": [
        "## How many missing values do we have in the data?"
      ]
    },
    {
      "cell_type": "code",
      "execution_count": null,
      "metadata": {
        "id": "DPDgUEueQDEF",
        "outputId": "331deeb3-0bf0-4562-80f4-f051ca396f01"
      },
      "outputs": [
        {
          "data": {
            "text/plain": [
              "Cabin       687\n",
              "Age         177\n",
              "Embarked      2\n",
              "Name          0\n",
              "Pclass        0\n",
              "Survived      0\n",
              "Sex           0\n",
              "Parch         0\n",
              "SibSp         0\n",
              "Fare          0\n",
              "Ticket        0\n",
              "dtype: int64"
            ]
          },
          "execution_count": 12,
          "metadata": {},
          "output_type": "execute_result"
        }
      ],
      "source": [
        "df.isna().sum().sort_values(ascending=False)"
      ]
    },
    {
      "cell_type": "markdown",
      "metadata": {
        "id": "L108hs72QDEF"
      },
      "source": [
        "## We are going to cluster the passangers into defined number of groups\n",
        "* It is clear that it is mandatory to select only a relevant subset of features\n",
        "    * Name the new DF as *df_clustering*\n",
        "* 🔎 Is *Name* or *Ticket* relevant?\n",
        "    * 'Survived', 'Pclass','Sex','Age','SibSp','Parch','Fare','Embarked'\n",
        "\n",
        "1. Select the features\n",
        "2. Drop *NaN* values\n",
        "3. Change type of *Sex* and *Embarked* to string\n",
        "    * **astype()** function"
      ]
    },
    {
      "cell_type": "code",
      "execution_count": null,
      "metadata": {
        "id": "5EuYJ6y3QDEG",
        "outputId": "29c77a43-adad-4e87-9344-a0e4b0462ada"
      },
      "outputs": [
        {
          "data": {
            "text/html": [
              "<div>\n",
              "<style scoped>\n",
              "    .dataframe tbody tr th:only-of-type {\n",
              "        vertical-align: middle;\n",
              "    }\n",
              "\n",
              "    .dataframe tbody tr th {\n",
              "        vertical-align: top;\n",
              "    }\n",
              "\n",
              "    .dataframe thead th {\n",
              "        text-align: right;\n",
              "    }\n",
              "</style>\n",
              "<table border=\"1\" class=\"dataframe\">\n",
              "  <thead>\n",
              "    <tr style=\"text-align: right;\">\n",
              "      <th></th>\n",
              "      <th>Survived</th>\n",
              "      <th>Pclass</th>\n",
              "      <th>Sex</th>\n",
              "      <th>Age</th>\n",
              "      <th>SibSp</th>\n",
              "      <th>Parch</th>\n",
              "      <th>Fare</th>\n",
              "      <th>Embarked</th>\n",
              "    </tr>\n",
              "    <tr>\n",
              "      <th>PassengerId</th>\n",
              "      <th></th>\n",
              "      <th></th>\n",
              "      <th></th>\n",
              "      <th></th>\n",
              "      <th></th>\n",
              "      <th></th>\n",
              "      <th></th>\n",
              "      <th></th>\n",
              "    </tr>\n",
              "  </thead>\n",
              "  <tbody>\n",
              "    <tr>\n",
              "      <th>1</th>\n",
              "      <td>0</td>\n",
              "      <td>3</td>\n",
              "      <td>male</td>\n",
              "      <td>22.0</td>\n",
              "      <td>1</td>\n",
              "      <td>0</td>\n",
              "      <td>7.2500</td>\n",
              "      <td>S</td>\n",
              "    </tr>\n",
              "    <tr>\n",
              "      <th>2</th>\n",
              "      <td>1</td>\n",
              "      <td>1</td>\n",
              "      <td>female</td>\n",
              "      <td>38.0</td>\n",
              "      <td>1</td>\n",
              "      <td>0</td>\n",
              "      <td>71.2833</td>\n",
              "      <td>C</td>\n",
              "    </tr>\n",
              "    <tr>\n",
              "      <th>3</th>\n",
              "      <td>1</td>\n",
              "      <td>3</td>\n",
              "      <td>female</td>\n",
              "      <td>26.0</td>\n",
              "      <td>0</td>\n",
              "      <td>0</td>\n",
              "      <td>7.9250</td>\n",
              "      <td>S</td>\n",
              "    </tr>\n",
              "    <tr>\n",
              "      <th>4</th>\n",
              "      <td>1</td>\n",
              "      <td>1</td>\n",
              "      <td>female</td>\n",
              "      <td>35.0</td>\n",
              "      <td>1</td>\n",
              "      <td>0</td>\n",
              "      <td>53.1000</td>\n",
              "      <td>S</td>\n",
              "    </tr>\n",
              "    <tr>\n",
              "      <th>5</th>\n",
              "      <td>0</td>\n",
              "      <td>3</td>\n",
              "      <td>male</td>\n",
              "      <td>35.0</td>\n",
              "      <td>0</td>\n",
              "      <td>0</td>\n",
              "      <td>8.0500</td>\n",
              "      <td>S</td>\n",
              "    </tr>\n",
              "  </tbody>\n",
              "</table>\n",
              "</div>"
            ],
            "text/plain": [
              "             Survived  Pclass     Sex   Age  SibSp  Parch     Fare Embarked\n",
              "PassengerId                                                                \n",
              "1                   0       3    male  22.0      1      0   7.2500        S\n",
              "2                   1       1  female  38.0      1      0  71.2833        C\n",
              "3                   1       3  female  26.0      0      0   7.9250        S\n",
              "4                   1       1  female  35.0      1      0  53.1000        S\n",
              "5                   0       3    male  35.0      0      0   8.0500        S"
            ]
          },
          "execution_count": 13,
          "metadata": {},
          "output_type": "execute_result"
        }
      ],
      "source": [
        "df_clustering = df[['Survived', 'Pclass','Sex','Age','SibSp','Parch','Fare','Embarked']].copy()\n",
        "df_clustering = df_clustering.dropna()\n",
        "df_clustering.Sex = df_clustering.Sex.astype(str)\n",
        "df_clustering.Embarked = df_clustering.Embarked.astype(str)\n",
        "df_clustering.head()"
      ]
    },
    {
      "cell_type": "markdown",
      "metadata": {
        "id": "r5LAyJwqQDEG"
      },
      "source": [
        "## Check *shape* and *dtypes*"
      ]
    },
    {
      "cell_type": "code",
      "execution_count": null,
      "metadata": {
        "id": "CgVq82KZQDEG",
        "outputId": "38793445-7160-4b0e-c1e6-8b1be71807b0"
      },
      "outputs": [
        {
          "data": {
            "text/plain": [
              "(712, 8)"
            ]
          },
          "execution_count": 14,
          "metadata": {},
          "output_type": "execute_result"
        }
      ],
      "source": [
        "df_clustering.shape"
      ]
    },
    {
      "cell_type": "code",
      "execution_count": null,
      "metadata": {
        "id": "0EMk0zyvQDEG",
        "outputId": "9d2c8451-50f6-47f6-c4b8-ae09e36ee32a"
      },
      "outputs": [
        {
          "data": {
            "text/plain": [
              "Survived      int64\n",
              "Pclass        int64\n",
              "Sex          object\n",
              "Age         float64\n",
              "SibSp         int64\n",
              "Parch         int64\n",
              "Fare        float64\n",
              "Embarked     object\n",
              "dtype: object"
            ]
          },
          "execution_count": 15,
          "metadata": {},
          "output_type": "execute_result"
        }
      ],
      "source": [
        "df_clustering.dtypes"
      ]
    },
    {
      "cell_type": "markdown",
      "metadata": {
        "id": "_WPaNjYyQDEG"
      },
      "source": [
        "# Print the dataset\n",
        "\n",
        "## 🔎 Does everything seem OK?"
      ]
    },
    {
      "cell_type": "code",
      "execution_count": null,
      "metadata": {
        "id": "igx-HyunQDEG",
        "outputId": "849a168b-db8d-4068-b5b3-ffc4b2e5525f"
      },
      "outputs": [
        {
          "data": {
            "text/html": [
              "<div>\n",
              "<style scoped>\n",
              "    .dataframe tbody tr th:only-of-type {\n",
              "        vertical-align: middle;\n",
              "    }\n",
              "\n",
              "    .dataframe tbody tr th {\n",
              "        vertical-align: top;\n",
              "    }\n",
              "\n",
              "    .dataframe thead th {\n",
              "        text-align: right;\n",
              "    }\n",
              "</style>\n",
              "<table border=\"1\" class=\"dataframe\">\n",
              "  <thead>\n",
              "    <tr style=\"text-align: right;\">\n",
              "      <th></th>\n",
              "      <th>Survived</th>\n",
              "      <th>Pclass</th>\n",
              "      <th>Sex</th>\n",
              "      <th>Age</th>\n",
              "      <th>SibSp</th>\n",
              "      <th>Parch</th>\n",
              "      <th>Fare</th>\n",
              "      <th>Embarked</th>\n",
              "    </tr>\n",
              "    <tr>\n",
              "      <th>PassengerId</th>\n",
              "      <th></th>\n",
              "      <th></th>\n",
              "      <th></th>\n",
              "      <th></th>\n",
              "      <th></th>\n",
              "      <th></th>\n",
              "      <th></th>\n",
              "      <th></th>\n",
              "    </tr>\n",
              "  </thead>\n",
              "  <tbody>\n",
              "    <tr>\n",
              "      <th>1</th>\n",
              "      <td>0</td>\n",
              "      <td>3</td>\n",
              "      <td>male</td>\n",
              "      <td>22.0</td>\n",
              "      <td>1</td>\n",
              "      <td>0</td>\n",
              "      <td>7.2500</td>\n",
              "      <td>S</td>\n",
              "    </tr>\n",
              "    <tr>\n",
              "      <th>2</th>\n",
              "      <td>1</td>\n",
              "      <td>1</td>\n",
              "      <td>female</td>\n",
              "      <td>38.0</td>\n",
              "      <td>1</td>\n",
              "      <td>0</td>\n",
              "      <td>71.2833</td>\n",
              "      <td>C</td>\n",
              "    </tr>\n",
              "    <tr>\n",
              "      <th>3</th>\n",
              "      <td>1</td>\n",
              "      <td>3</td>\n",
              "      <td>female</td>\n",
              "      <td>26.0</td>\n",
              "      <td>0</td>\n",
              "      <td>0</td>\n",
              "      <td>7.9250</td>\n",
              "      <td>S</td>\n",
              "    </tr>\n",
              "    <tr>\n",
              "      <th>4</th>\n",
              "      <td>1</td>\n",
              "      <td>1</td>\n",
              "      <td>female</td>\n",
              "      <td>35.0</td>\n",
              "      <td>1</td>\n",
              "      <td>0</td>\n",
              "      <td>53.1000</td>\n",
              "      <td>S</td>\n",
              "    </tr>\n",
              "    <tr>\n",
              "      <th>5</th>\n",
              "      <td>0</td>\n",
              "      <td>3</td>\n",
              "      <td>male</td>\n",
              "      <td>35.0</td>\n",
              "      <td>0</td>\n",
              "      <td>0</td>\n",
              "      <td>8.0500</td>\n",
              "      <td>S</td>\n",
              "    </tr>\n",
              "    <tr>\n",
              "      <th>...</th>\n",
              "      <td>...</td>\n",
              "      <td>...</td>\n",
              "      <td>...</td>\n",
              "      <td>...</td>\n",
              "      <td>...</td>\n",
              "      <td>...</td>\n",
              "      <td>...</td>\n",
              "      <td>...</td>\n",
              "    </tr>\n",
              "    <tr>\n",
              "      <th>886</th>\n",
              "      <td>0</td>\n",
              "      <td>3</td>\n",
              "      <td>female</td>\n",
              "      <td>39.0</td>\n",
              "      <td>0</td>\n",
              "      <td>5</td>\n",
              "      <td>29.1250</td>\n",
              "      <td>Q</td>\n",
              "    </tr>\n",
              "    <tr>\n",
              "      <th>887</th>\n",
              "      <td>0</td>\n",
              "      <td>2</td>\n",
              "      <td>male</td>\n",
              "      <td>27.0</td>\n",
              "      <td>0</td>\n",
              "      <td>0</td>\n",
              "      <td>13.0000</td>\n",
              "      <td>S</td>\n",
              "    </tr>\n",
              "    <tr>\n",
              "      <th>888</th>\n",
              "      <td>1</td>\n",
              "      <td>1</td>\n",
              "      <td>female</td>\n",
              "      <td>19.0</td>\n",
              "      <td>0</td>\n",
              "      <td>0</td>\n",
              "      <td>30.0000</td>\n",
              "      <td>S</td>\n",
              "    </tr>\n",
              "    <tr>\n",
              "      <th>890</th>\n",
              "      <td>1</td>\n",
              "      <td>1</td>\n",
              "      <td>male</td>\n",
              "      <td>26.0</td>\n",
              "      <td>0</td>\n",
              "      <td>0</td>\n",
              "      <td>30.0000</td>\n",
              "      <td>C</td>\n",
              "    </tr>\n",
              "    <tr>\n",
              "      <th>891</th>\n",
              "      <td>0</td>\n",
              "      <td>3</td>\n",
              "      <td>male</td>\n",
              "      <td>32.0</td>\n",
              "      <td>0</td>\n",
              "      <td>0</td>\n",
              "      <td>7.7500</td>\n",
              "      <td>Q</td>\n",
              "    </tr>\n",
              "  </tbody>\n",
              "</table>\n",
              "<p>712 rows × 8 columns</p>\n",
              "</div>"
            ],
            "text/plain": [
              "             Survived  Pclass     Sex   Age  SibSp  Parch     Fare Embarked\n",
              "PassengerId                                                                \n",
              "1                   0       3    male  22.0      1      0   7.2500        S\n",
              "2                   1       1  female  38.0      1      0  71.2833        C\n",
              "3                   1       3  female  26.0      0      0   7.9250        S\n",
              "4                   1       1  female  35.0      1      0  53.1000        S\n",
              "5                   0       3    male  35.0      0      0   8.0500        S\n",
              "...               ...     ...     ...   ...    ...    ...      ...      ...\n",
              "886                 0       3  female  39.0      0      5  29.1250        Q\n",
              "887                 0       2    male  27.0      0      0  13.0000        S\n",
              "888                 1       1  female  19.0      0      0  30.0000        S\n",
              "890                 1       1    male  26.0      0      0  30.0000        C\n",
              "891                 0       3    male  32.0      0      0   7.7500        Q\n",
              "\n",
              "[712 rows x 8 columns]"
            ]
          },
          "execution_count": 16,
          "metadata": {},
          "output_type": "execute_result"
        }
      ],
      "source": [
        "df_clustering"
      ]
    },
    {
      "cell_type": "markdown",
      "metadata": {
        "id": "1dlYc3wJQDEG"
      },
      "source": [
        "# We can see that not all features are numerical\n",
        "* 🔎 Is it a problem?\n",
        "    * Why?\n",
        "* 🔎 How to deal with it?\n",
        "\n",
        "## We have two basic encoding options\n",
        "* Ordinal encoding vs. One-hot encoding\n",
        "* What is the difference?\n",
        "    * Is thete difference in dimensionality change? Why it can be an issue?\n",
        "    * When is ordinal encoding appropriate?\n",
        "    * Can you omit the pre-requirements of ordinal encoding sometimes?\n",
        "\n",
        "## Lets encode categorical features\n",
        "* https://scikit-learn.org/stable/modules/preprocessing.html#preprocessing\n",
        "* https://scikit-learn.org/stable/modules/classes.html?highlight=preprocessing#module-sklearn.preprocessing\n",
        "\n"
      ]
    },
    {
      "cell_type": "code",
      "execution_count": null,
      "metadata": {
        "id": "mpYojs8mQDEG"
      },
      "outputs": [],
      "source": []
    },
    {
      "cell_type": "markdown",
      "metadata": {
        "id": "1DuQAgXJQDEG"
      },
      "source": [
        "## 💡 You may ask why do we use the `dataframe[['feature_name']]` notation with double `[[` and `]]` brackets\n",
        "* **Single brackets** pair around one variable name means that you want to select just the `pandas.Series` object"
      ]
    },
    {
      "cell_type": "code",
      "execution_count": null,
      "metadata": {
        "id": "wKLhK8zzQDEG",
        "outputId": "bf5ee08e-41c8-47d2-9890-13ed34d9e208"
      },
      "outputs": [
        {
          "data": {
            "text/plain": [
              "pandas.core.series.Series"
            ]
          },
          "execution_count": 17,
          "metadata": {},
          "output_type": "execute_result"
        }
      ],
      "source": [
        "type(df_clustering['Sex'])"
      ]
    },
    {
      "cell_type": "markdown",
      "metadata": {
        "id": "E9LfLWnNQDEH"
      },
      "source": [
        "* **Double brackets** pair around one variable name created an output in the `pandas.DataFrame` format"
      ]
    },
    {
      "cell_type": "code",
      "execution_count": null,
      "metadata": {
        "id": "wJaSctQmQDEH",
        "outputId": "70976ef0-3ee0-4e10-a70e-4ccffd1c7eee"
      },
      "outputs": [
        {
          "data": {
            "text/plain": [
              "pandas.core.frame.DataFrame"
            ]
          },
          "execution_count": 18,
          "metadata": {},
          "output_type": "execute_result"
        }
      ],
      "source": [
        "type(df_clustering[['Sex']])"
      ]
    },
    {
      "cell_type": "markdown",
      "metadata": {
        "id": "fWwg45Z9QDEH"
      },
      "source": [
        "## There is OneHotEncoder as well, however I recommend using `pd.get_dummies` method instead"
      ]
    },
    {
      "cell_type": "code",
      "execution_count": null,
      "metadata": {
        "id": "fK5fmMnzQDEH"
      },
      "outputs": [],
      "source": []
    },
    {
      "cell_type": "markdown",
      "metadata": {
        "id": "CIoS4k56QDEH"
      },
      "source": [
        "## Let's finish the encoding part and create a new dataframe with encoded data\n",
        "1. Create empty *df_encoded* dataframe with index using *df_clustering.index*\n",
        "2. Create *Sex* variable with ordinal encoded data\n",
        "3. Use `join` method for added one-hot encoded *Embarked* feature"
      ]
    },
    {
      "cell_type": "code",
      "execution_count": null,
      "metadata": {
        "id": "lyiW6ZBHQDEH"
      },
      "outputs": [],
      "source": []
    },
    {
      "cell_type": "markdown",
      "metadata": {
        "id": "Mhki4DuKQDEH"
      },
      "source": [
        "# It is important to select the appropriate scaling method of the number features\n",
        "* There are many ways how to do this - **MinMax, StandardScaler, PowerTransform, ...**\n",
        "* This step heavily depends on a domain knowledge because the scales of the features have significant effect on a distances between couples of dataset instances\n",
        "    - It is clear that if one variable is in range **(0,1)** and the second one is in a range **(5000, 10 000)**, the difference in the **second feature** will be definitely **more important** than in the  first one from the numerical point of view\n",
        "    - Although it is possible that from the **domain point of view** the **first variable may be more important**\n",
        "    - 💡 Thus it is a good idea to at least transform the features into a **simiiar scales so the effect on the distance value would be similiar**\n",
        "    - Transformation depends heavily on the statistical distribution of the feature\n",
        "        - 💡You can use PowerTransform for a heavy-tailed distribution, **Standardization or MinMax normalization for normally distributed features** etc."
      ]
    },
    {
      "cell_type": "markdown",
      "metadata": {
        "id": "2HTTOT4WQDEH"
      },
      "source": [
        "## Take a look at the *Fare* feature distribution\n",
        "* What transformation would be appropriate based on that?"
      ]
    },
    {
      "cell_type": "code",
      "execution_count": null,
      "metadata": {
        "id": "LrxrP6l4QDEH"
      },
      "outputs": [],
      "source": []
    },
    {
      "cell_type": "markdown",
      "metadata": {
        "id": "066DzKjZQDEH"
      },
      "source": [
        "## Transform the feature"
      ]
    },
    {
      "cell_type": "code",
      "execution_count": null,
      "metadata": {
        "id": "0j3OyU7mQDEH"
      },
      "outputs": [],
      "source": []
    },
    {
      "cell_type": "markdown",
      "metadata": {
        "id": "KUy4M-6eQDEH"
      },
      "source": [
        "## Add the transformed feature into the *df_encoded* dataframe"
      ]
    },
    {
      "cell_type": "code",
      "execution_count": null,
      "metadata": {
        "id": "PcbTBCtCQDEH"
      },
      "outputs": [],
      "source": []
    },
    {
      "cell_type": "markdown",
      "metadata": {
        "id": "WhIQZrAsQDEH"
      },
      "source": [
        "## Plot histogram of the transformed feature\n",
        "* 🔎 What has changed?"
      ]
    },
    {
      "cell_type": "code",
      "execution_count": null,
      "metadata": {
        "id": "ftmpqpptQDEH"
      },
      "outputs": [],
      "source": []
    },
    {
      "cell_type": "markdown",
      "metadata": {
        "id": "H5fVNv9uQDEH"
      },
      "source": [
        "## Scale the *Age* using MinMax scaler\n",
        "* `sklearn.preprocessing.minmax_scale`"
      ]
    },
    {
      "cell_type": "code",
      "execution_count": null,
      "metadata": {
        "id": "UwbyqZw2QDEH"
      },
      "outputs": [],
      "source": []
    },
    {
      "cell_type": "markdown",
      "metadata": {
        "id": "XNZWj3IAQDEH"
      },
      "source": [
        "## Join the *df_encoded* and *['Survived', 'Pclass', 'SibSp', 'Parch']* features"
      ]
    },
    {
      "cell_type": "code",
      "execution_count": null,
      "metadata": {
        "id": "q3xUJWdlQDEH"
      },
      "outputs": [],
      "source": []
    },
    {
      "cell_type": "markdown",
      "metadata": {
        "tags": [],
        "id": "g2ccaLGZQDEH"
      },
      "source": [
        "# We finally got to the clustering part 😮‍💨\n",
        "\n",
        "![meme02](https://github.com/lubsar/EFREI-Introduction-to-Machine-Learning/blob/main/images/fml_04_meme_02.jpg?raw=true)\n",
        "\n",
        "## There are methods how to identify probable number of clusters in the data\n",
        "* It is always a rough estimate\n",
        "\n",
        "## 💡 We can use **Elbow method** to identify potentially ideal number of clusters in our data in **KMeans** algorithm.\n",
        "\n",
        "There are two basic methods for evaluation of clusters quality:\n",
        "1. SSE - Sum of squared distances of samples to their closest cluster center, this one is specific for **KMeans** algorithm.\n",
        "    * You can find it as **inertia_** attribute of KMeans sklearn object.\n",
        "2. Silhouette Coefficient - calculated using the mean intra-cluster distance and the mean nearest-cluster distance\n",
        "\n",
        "## 💡 We ussually want to find number of clusters with low SSE and high Silhoutte coef.\n",
        "- Take a look at [this](https://towardsdatascience.com/silhouette-coefficient-validating-clustering-techniques-e976bb81d10c) and [this](https://towardsdatascience.com/k-means-clustering-from-a-to-z-f6242a314e9a) for more details\n",
        "\n",
        "## Try different number of clusters from range <2, 10> for KMeans algorithm, save both evaluation criteria and plot dependency of criteria to number of clusters.\n",
        "* We will use `sklearn.cluster.KMeans` class\n",
        "* The most important parameter is the *n_clusters*\n",
        "    * What is the *random_state* parameter?"
      ]
    },
    {
      "cell_type": "code",
      "execution_count": null,
      "metadata": {
        "id": "8SmGE6NKQDEL"
      },
      "outputs": [],
      "source": []
    },
    {
      "cell_type": "markdown",
      "metadata": {
        "id": "rZI5NvKRQDEL"
      },
      "source": [
        "## Plot the SSE and Silhouette score"
      ]
    },
    {
      "cell_type": "code",
      "execution_count": null,
      "metadata": {
        "id": "4BohtuZJQDEL"
      },
      "outputs": [],
      "source": []
    },
    {
      "cell_type": "code",
      "execution_count": null,
      "metadata": {
        "id": "0JnkmA8vQDEL"
      },
      "outputs": [],
      "source": []
    },
    {
      "cell_type": "markdown",
      "metadata": {
        "id": "NalxXZNaQDEL"
      },
      "source": [
        "# 🔎 What is the probable number of clusters in the data?"
      ]
    },
    {
      "cell_type": "markdown",
      "metadata": {
        "id": "bRjf4_JQQDEL"
      },
      "source": [
        "## Let's try to analyze the data assigned into **4** clusters"
      ]
    },
    {
      "cell_type": "code",
      "execution_count": null,
      "metadata": {
        "id": "Bb0JfAaOQDEL"
      },
      "outputs": [],
      "source": []
    },
    {
      "cell_type": "markdown",
      "metadata": {
        "id": "1PpvF4ELQDEL"
      },
      "source": [
        "## How big are our clusters? How many 0, 1, .. are in *labels_* property?"
      ]
    },
    {
      "cell_type": "code",
      "execution_count": null,
      "metadata": {
        "id": "NPiTJjd0QDEL"
      },
      "outputs": [],
      "source": []
    },
    {
      "cell_type": "markdown",
      "metadata": {
        "id": "2m3waCHyQDEL"
      },
      "source": [
        "# 📒 Explore clusters\n",
        "* Try to use cluster information for exploration analysis of our data\n",
        "    * Create new feature *cluster_id* with the *labels_* property data"
      ]
    },
    {
      "cell_type": "code",
      "execution_count": null,
      "metadata": {
        "scrolled": true,
        "id": "3Xi-AWpBQDEL"
      },
      "outputs": [],
      "source": []
    },
    {
      "cell_type": "markdown",
      "metadata": {
        "id": "9Z95MEYeQDEL"
      },
      "source": [
        "## 🚀 Hint: You can use *sns.countplot* as a visual *.value_counts()* method"
      ]
    },
    {
      "cell_type": "code",
      "execution_count": null,
      "metadata": {
        "id": "jo0CLl5PQDEL"
      },
      "outputs": [],
      "source": []
    },
    {
      "cell_type": "markdown",
      "metadata": {
        "id": "_93sr1kzQDEL"
      },
      "source": [
        "## 🎯 Create plots showing values of different attributes based on cluster group and describe them\n",
        "* Let's follow the four example questions about the data to solve the task\n",
        "\n",
        "### ❓ Questions ❓\n",
        "1. Is **Fare** different for points in different clusters?\n",
        "    * 💡 Use *plt.yscale('log')* to take care of the outlier/variance effect\n",
        "2. Is **Age** different for point in different clusters?\n",
        "3. Does rate of suvival differ in clusters?\n",
        "    * *Survived*\n",
        "4. Does number of passanger of each class differ in clusters?\n",
        "    * *Pclass*"
      ]
    },
    {
      "cell_type": "code",
      "execution_count": null,
      "metadata": {
        "id": "doibbcJ9QDEL"
      },
      "outputs": [],
      "source": []
    },
    {
      "cell_type": "markdown",
      "metadata": {
        "id": "EmfF84J9QDEL"
      },
      "source": [
        "# 📝 Write a textual description of the four clusters\n",
        "\n",
        "### Cluster 1 - ...\n",
        "\n",
        "### Cluster 2 - ...\n",
        "\n",
        "### Cluster 3 - ...\n",
        "\n",
        "### Cluster 4 - ..."
      ]
    },
    {
      "cell_type": "markdown",
      "metadata": {
        "id": "v7zQczbZQDEM"
      },
      "source": [
        "# Is our data represented in the best way?\n",
        "\n",
        "* **Clustering methods depends on calculation of distance metric among data points in our data matrix.**\n",
        "* Therefore it is necessary to preproces our data matrix **X** in a best way possible to achive equal distance for every dataset feature.\n",
        "    * After such transformation we can presume, that difference in *Age* has same impact as the difference as in the *Fare* feature.\n",
        "* **Generally, it is very hard to create perfect tranformation for our real dataset.**\n",
        "\n",
        "## Use StandardScaler transformation for our data **X**"
      ]
    },
    {
      "cell_type": "code",
      "execution_count": null,
      "metadata": {
        "id": "z12xEgo2QDEM"
      },
      "outputs": [],
      "source": []
    },
    {
      "cell_type": "markdown",
      "metadata": {
        "id": "VPFxT2zDQDEM"
      },
      "source": [
        "# ✅ Task\n",
        "1. Use **KMeans** to differently preprocessed data matrix **X_stand**\n",
        "2. Detect \"ideal\" number of clusters using Elbow method\n",
        "3. Explore detected clusters and **describe** them to the Markdown cell\n",
        "    * **Describe the insight you got from the plots with a few sentences in a Markdown cell below the plot**"
      ]
    },
    {
      "cell_type": "code",
      "source": [
        "scaler = sklearn.preprocessing.StandardScaler()\n",
        "X_stand = scaler.fit_transform(X)\n",
        "\n",
        "clustering_scores = []\n",
        "K_RANGE = range(2, 11)\n",
        "\n",
        "for k in K_RANGE:\n",
        "    clustering = sklearn.cluster.KMeans(n_clusters=k, random_state=42, n_init='auto')\n",
        "    clustering.fit(X_stand)\n",
        "    sse = clustering.inertia_\n",
        "    clustering_scores.append({'k': k, 'SSE': sse})\n",
        "\n",
        "scores_df = pd.DataFrame(clustering_scores)\n",
        "\n",
        "# Plot SSE\n",
        "plt.figure(figsize=(10, 5))\n",
        "plt.plot(scores_df['k'], scores_df['SSE'], marker='o')\n",
        "plt.title('Elbow Method: SSE vs. Number of Clusters (StandardScaler Data)')\n",
        "plt.xlabel('Number of Clusters (k)')\n",
        "plt.ylabel('Sum of Squared Errors (SSE)')\n",
        "plt.xticks(K_RANGE)\n",
        "plt.grid(True)\n",
        "plt.show()\n",
        "\n",
        "n_clusters_final = 4\n",
        "\n",
        "final_clustering = sklearn.cluster.KMeans(n_clusters=n_clusters_final, random_state=42, n_init='auto')\n",
        "final_clustering.fit(X_stand)\n",
        "\n",
        "\n",
        "df_analysis = df_encoded.copy()\n",
        "df_analysis['cluster_id_standard'] = final_clustering.labels_\n",
        "\n",
        "\n",
        "df_analysis['Fare_Original'] = df_clustering['Fare']\n",
        "df_analysis['Age_Original'] = df_clustering['Age']\n",
        "\n",
        "print(df_analysis['cluster_id_standard'].value_counts().sort_index())\n",
        "print(\"-\" * 40)\n",
        "\n",
        "plt.figure(figsize=(8, 5))\n",
        "sns.boxplot(x='cluster_id_standard', y='Fare_Original', data=df_analysis, palette='viridis')\n",
        "plt.yscale('log')\n",
        "plt.title('Distribution of Fare by Cluster (StandardScaler Data)')\n",
        "print(\"Mean Fare by Cluster:\\n\", df_analysis.groupby('cluster_id_standard')['Fare_Original'].mean())\n",
        "plt.show()\n",
        "print(\"-\" * 40)\n",
        "\n",
        "plt.figure(figsize=(8, 5))\n",
        "sns.boxplot(x='cluster_id_standard', y='Age_Original', data=df_analysis, palette='viridis')\n",
        "plt.title('Distribution of Age by Cluster (StandardScaler Data)')\n",
        "print(\"Mean Age by Cluster:\\n\", df_analysis.groupby('cluster_id_standard')['Age_Original'].mean())\n",
        "plt.show()\n",
        "print(\"-\" * 40)\n",
        "\n",
        "plt.figure(figsize=(8, 5))\n",
        "sns.countplot(x='cluster_id_standard', hue='Survived', data=df_analysis, palette='viridis')\n",
        "plt.title('Survival Rate by Cluster (StandardScaler Data)')\n",
        "plt.show()\n",
        "print(\"-\" * 40)\n",
        "\n",
        "plt.figure(figsize=(8, 5))\n",
        "sns.countplot(x='cluster_id_standard', hue='Pclass', data=df_analysis, palette='viridis')\n",
        "plt.title('Passenger Class by Cluster (StandardScaler Data)')\n",
        "plt.show()\n"
      ],
      "metadata": {
        "id": "PMCdM3IKQQjS",
        "outputId": "a10d5e8a-2027-4631-bff9-01441d270a03",
        "colab": {
          "base_uri": "https://localhost:8080/",
          "height": 1000
        }
      },
      "execution_count": 23,
      "outputs": [
        {
          "output_type": "display_data",
          "data": {
            "text/plain": [
              "<Figure size 1000x500 with 1 Axes>"
            ],
            "image/png": "[encoded data removed]"
          },
          "metadata": {}
        },
        {
          "output_type": "stream",
          "name": "stdout",
          "text": [
            "cluster_id_standard\n",
            "0    218\n",
            "1    336\n",
            "2    130\n",
            "3     28\n",
            "Name: count, dtype: int64\n",
            "----------------------------------------\n",
            "Mean Fare by Cluster:\n",
            " cluster_id_standard\n",
            "0    52.518922\n",
            "1    11.228383\n",
            "2    68.296767\n",
            "3    18.265775\n",
            "Name: Fare_Original, dtype: float64\n"
          ]
        },
        {
          "output_type": "stream",
          "name": "stderr",
          "text": [
            "/tmp/ipython-input-2617827018.py:42: FutureWarning: \n",
            "\n",
            "Passing `palette` without assigning `hue` is deprecated and will be removed in v0.14.0. Assign the `x` variable to `hue` and set `legend=False` for the same effect.\n",
            "\n",
            "  sns.boxplot(x='cluster_id_standard', y='Fare_Original', data=df_analysis, palette='viridis')\n"
          ]
        },
        {
          "output_type": "display_data",
          "data": {
            "text/plain": [
              "<Figure size 800x500 with 1 Axes>"
            ],
            "image/png": "[encoded data removed]"
          },
          "metadata": {}
        },
        {
          "output_type": "stream",
          "name": "stdout",
          "text": [
            "----------------------------------------\n",
            "Mean Age by Cluster:\n",
            " cluster_id_standard\n",
            "0    29.115826\n",
            "1    29.659226\n",
            "2    30.814769\n",
            "3    28.089286\n",
            "Name: Age_Original, dtype: float64\n"
          ]
        },
        {
          "output_type": "stream",
          "name": "stderr",
          "text": [
            "/tmp/ipython-input-2617827018.py:50: FutureWarning: \n",
            "\n",
            "Passing `palette` without assigning `hue` is deprecated and will be removed in v0.14.0. Assign the `x` variable to `hue` and set `legend=False` for the same effect.\n",
            "\n",
            "  sns.boxplot(x='cluster_id_standard', y='Age_Original', data=df_analysis, palette='viridis')\n"
          ]
        },
        {
          "output_type": "display_data",
          "data": {
            "text/plain": [
              "<Figure size 800x500 with 1 Axes>"
            ],
            "image/png": "[encoded data removed]"
          },
          "metadata": {}
        },
        {
          "output_type": "stream",
          "name": "stdout",
          "text": [
            "----------------------------------------\n"
          ]
        },
        {
          "output_type": "display_data",
          "data": {
            "text/plain": [
              "<Figure size 800x500 with 1 Axes>"
            ],
            "image/png": "[encoded data removed]"
          },
          "metadata": {}
        },
        {
          "output_type": "stream",
          "name": "stdout",
          "text": [
            "----------------------------------------\n"
          ]
        },
        {
          "output_type": "display_data",
          "data": {
            "text/plain": [
              "<Figure size 800x500 with 1 Axes>"
            ],
            "image/png": "[encoded data removed]"
          },
          "metadata": {}
        }
      ]
    }
  ],
  "metadata": {
    "colab": {
      "name": "cv4.ipynb",
      "provenance": []
    },
    "kernelspec": {
      "display_name": ".venv",
      "language": "python",
      "name": "python3"
    },
    "language_info": {
      "codemirror_mode": {
        "name": "ipython",
        "version": 3
      },
      "file_extension": ".py",
      "mimetype": "text/x-python",
      "name": "python",
      "nbconvert_exporter": "python",
      "pygments_lexer": "ipython3",
      "version": "3.13.7"
    }
  },
  "nbformat": 4,
  "nbformat_minor": 0
}